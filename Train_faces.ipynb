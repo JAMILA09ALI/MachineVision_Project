{
 "cells": [
  {
   "cell_type": "code",
   "execution_count": 1,
   "id": "0de8fa12",
   "metadata": {},
   "outputs": [],
   "source": [
    "import os,pickle,numpy as np\n",
    "from PIL import Image    #PIL is Python Image Library\n",
    "import cv2"
   ]
  },
  {
   "cell_type": "code",
   "execution_count": 2,
   "id": "fa0209ed",
   "metadata": {},
   "outputs": [
    {
     "name": "stdout",
     "output_type": "stream",
     "text": [
      "Requirement already satisfied: opencv-contrib-python in c:\\users\\hp\\appdata\\roaming\\python\\python37\\site-packages (4.7.0.68)\n",
      "Requirement already satisfied: numpy>=1.17.0 in c:\\users\\hp\\anaconda3\\envs\\machinevision\\lib\\site-packages (from opencv-contrib-python) (1.21.5)\n"
     ]
    }
   ],
   "source": [
    "!pip3 install opencv-contrib-python --upgrade"
   ]
  },
  {
   "cell_type": "code",
   "execution_count": 3,
   "id": "7bc9fb2c",
   "metadata": {},
   "outputs": [],
   "source": [
    "face_cascade=cv2.CascadeClassifier('C:\\\\Users\\\\HP\\\\anaconda3\\\\envs\\\\machinevision\\\\Lib\\\\site-packages\\\\cv2\\\\data\\\\haarcascade_frontalface_alt2.xml')"
   ]
  },
  {
   "cell_type": "code",
   "execution_count": 4,
   "id": "cc87d0b2",
   "metadata": {},
   "outputs": [
    {
     "name": "stdout",
     "output_type": "stream",
     "text": [
      "C:\\Users\\HP\\Downloads\\sem 8\\MV\\MachineVision Project\\Project_Images\n"
     ]
    }
   ],
   "source": [
    "# print(os.getcwd())\n",
    "BASE_DIR=os.path.dirname(os.path.abspath('__file__'))  #storing the current directory path(C:\\Users\\HP\\Downloads\\sem 8\\MV\\MachineVision Project)\n",
    "image_dir=os.path.join(BASE_DIR,'Project_Images')  # C:\\Users\\HP\\Downloads\\sem 8\\MV\\MachineVision Project\\Project_Images\n",
    "print(image_dir)"
   ]
  },
  {
   "cell_type": "code",
   "execution_count": 5,
   "id": "cd5eee73",
   "metadata": {},
   "outputs": [
    {
     "name": "stdout",
     "output_type": "stream",
     "text": [
      "C:\\Users\\HP\\Downloads\\sem 8\\MV\\MachineVision Project\\Project_Images ['JAMILA', 'LUAI'] []\n",
      "C:\\Users\\HP\\Downloads\\sem 8\\MV\\MachineVision Project\\Project_Images\\JAMILA [] ['1.jpg', '10.jpg', '11.jpg', '12.jpg', '13.jpg', '14.jpg', '15.jpg', '16.jpg', '17.jpg', '18.jpg', '19.jpg', '2.jpg', '20.jpg', '21.jpg', '22.jpg', '23.jpg', '24.jpg', '25.jpg', '26.jpg', '27.jpg', '28.jpg', '29.jpg', '3.jpg', '30.jpg', '4.jpg', '5.jpg', '6.jpg', '7.jpg', '8.jpg', '9.jpg']\n",
      "FILES :  1.jpg\n",
      "FILES :  10.jpg\n",
      "FILES :  11.jpg\n",
      "FILES :  12.jpg\n",
      "FILES :  13.jpg\n",
      "FILES :  14.jpg\n",
      "FILES :  15.jpg\n",
      "FILES :  16.jpg\n",
      "FILES :  17.jpg\n",
      "FILES :  18.jpg\n",
      "FILES :  19.jpg\n",
      "FILES :  2.jpg\n",
      "FILES :  20.jpg\n",
      "FILES :  21.jpg\n",
      "FILES :  22.jpg\n",
      "FILES :  23.jpg\n",
      "FILES :  24.jpg\n",
      "FILES :  25.jpg\n",
      "FILES :  26.jpg\n",
      "FILES :  27.jpg\n",
      "FILES :  28.jpg\n",
      "FILES :  29.jpg\n",
      "FILES :  3.jpg\n",
      "FILES :  30.jpg\n",
      "FILES :  4.jpg\n",
      "FILES :  5.jpg\n",
      "FILES :  6.jpg\n",
      "FILES :  7.jpg\n",
      "FILES :  8.jpg\n",
      "FILES :  9.jpg\n",
      "C:\\Users\\HP\\Downloads\\sem 8\\MV\\MachineVision Project\\Project_Images\\LUAI [] ['1.jpg', '10.jpg', '11.jpg', '12.jpg', '13.jpg', '14.jpg', '15.jpg', '16.jpg', '17.jpg', '18.jpg', '19.jpg', '2.jpg', '20.jpg', '21.jpg', '22.jpg', '23.jpg', '24.jpg', '25.jpg', '26.jpg', '27.jpg', '28.jpg', '29.jpg', '3.jpg', '30.jpg', '31.jpg', '32.jpg', '33.jpg', '34.jpg', '35.jpg', '36.jpg', '37.jpg', '38.jpg', '39.jpg', '4.jpg', '40.jpg', '5.jpg', '6.jpg', '7.jpg', '8.jpg', '9.jpg']\n",
      "FILES :  1.jpg\n",
      "FILES :  10.jpg\n",
      "FILES :  11.jpg\n",
      "FILES :  12.jpg\n",
      "FILES :  13.jpg\n",
      "FILES :  14.jpg\n",
      "FILES :  15.jpg\n",
      "FILES :  16.jpg\n",
      "FILES :  17.jpg\n",
      "FILES :  18.jpg\n",
      "FILES :  19.jpg\n",
      "FILES :  2.jpg\n",
      "FILES :  20.jpg\n",
      "FILES :  21.jpg\n",
      "FILES :  22.jpg\n",
      "FILES :  23.jpg\n",
      "FILES :  24.jpg\n",
      "FILES :  25.jpg\n",
      "FILES :  26.jpg\n",
      "FILES :  27.jpg\n",
      "FILES :  28.jpg\n",
      "FILES :  29.jpg\n",
      "FILES :  3.jpg\n",
      "FILES :  30.jpg\n",
      "FILES :  31.jpg\n",
      "FILES :  32.jpg\n",
      "FILES :  33.jpg\n",
      "FILES :  34.jpg\n",
      "FILES :  35.jpg\n",
      "FILES :  36.jpg\n",
      "FILES :  37.jpg\n",
      "FILES :  38.jpg\n",
      "FILES :  39.jpg\n",
      "FILES :  4.jpg\n",
      "FILES :  40.jpg\n",
      "FILES :  5.jpg\n",
      "FILES :  6.jpg\n",
      "FILES :  7.jpg\n",
      "FILES :  8.jpg\n",
      "FILES :  9.jpg\n"
     ]
    }
   ],
   "source": [
    "image_id=0\n",
    "label_id={}\n",
    "y_train_label=[]\n",
    "x_train_data=[]\n",
    "\n",
    "#To see the images in images dir\n",
    "for root,dirs,files in os.walk(image_dir):\n",
    "    print(root,dirs,files)\n",
    "    for file in files:\n",
    "        print(\"FILES : \",file)\n",
    "        if(file.endswith('png') or file.endswith('jpg')):\n",
    "            path=os.path.join(root,file)\n",
    "            label=os.path.basename(root).replace(' ','_').lower()\n",
    "            # print(label)   #the name of the folder w.r.t images \n",
    "            # print(path)    #verify this image ,convert in to a numpy array and turn to grayscale.\n",
    "            if(label not in label_id):  #Assinging numbers to labels(LabelEncoding)\n",
    "                label_id[label]=image_id\n",
    "                image_id+=1\n",
    "\n",
    "\n",
    "\n",
    "            pil_image=Image.open(path).convert('L')  #Coverting into grayscale.\n",
    "            #Resizing the image for better accuracy.\n",
    "            size=(400,533)\n",
    "            final_image=pil_image.resize(size,Image.Resampling.LANCZOS)\n",
    "\n",
    "            image_array=np.array(final_image)  #Convert the gray_scale image into an array of pixels.\n",
    "            # print(image_array)\n",
    "\n",
    "            faces = face_cascade.detectMultiScale(image_array, scaleFactor=1.2, minNeighbors=5)\n",
    "            for (x,y,w,h) in faces:\n",
    "              roi_gray = image_array[y:y + h, x:x + w]    #Pixel values of the face region.\n",
    "                # img_name = 'FORFUN.png'\n",
    "                # cv2.imwrite(img_name, roi_gray)\n",
    "            y_train_label.append(label_id[label])         #Appending the label number\n",
    "            x_train_data.append(roi_gray)               #Appending the pixel values of the label face\n"
   ]
  },
  {
   "cell_type": "code",
   "execution_count": 6,
   "id": "f3c8a718",
   "metadata": {},
   "outputs": [
    {
     "name": "stdout",
     "output_type": "stream",
     "text": [
      "[0, 0, 0, 0, 0, 0, 0, 0, 0, 0, 0, 0, 0, 0, 0, 0, 0, 0, 0, 0, 0, 0, 0, 0, 0, 0, 0, 0, 0, 0, 1, 1, 1, 1, 1, 1, 1, 1, 1, 1, 1, 1, 1, 1, 1, 1, 1, 1, 1, 1, 1, 1, 1, 1, 1, 1, 1, 1, 1, 1, 1, 1, 1, 1, 1, 1, 1, 1, 1, 1]\n",
      "{'jamila': 0, 'luai': 1}\n"
     ]
    }
   ],
   "source": [
    "print(y_train_label)\n",
    "# print(x_train_data)\n",
    "print(label_id)\n",
    "\n",
    "#Using Pickle to save label_id\n",
    "with open('label_ids.pickle','wb') as fw:\n",
    "    pickle.dump(label_id,fw)\n",
    "\n",
    "\n",
    "#Training the OpenCV recognizer\n",
    "recognizer=cv2.face.LBPHFaceRecognizer_create()\n",
    "recognizer.train(x_train_data,np.array(y_train_label))\n",
    "recognizer.save('trainedModel.yml')"
   ]
  },
  {
   "cell_type": "code",
   "execution_count": 7,
   "id": "77a4bdda",
   "metadata": {},
   "outputs": [
    {
     "name": "stdout",
     "output_type": "stream",
     "text": [
      "True\n"
     ]
    }
   ],
   "source": [
    "test = face_cascade.load('C:\\\\Users\\\\HP\\\\anaconda3\\\\envs\\\\machinevision\\\\Lib\\\\site-packages\\\\cv2\\\\data\\\\haarcascade_frontalface_alt2.xml')\n",
    "\n",
    "print(test)"
   ]
  },
  {
   "cell_type": "code",
   "execution_count": 8,
   "id": "ffd92f53",
   "metadata": {},
   "outputs": [
    {
     "name": "stdout",
     "output_type": "stream",
     "text": [
      "Requirement already satisfied: opencv-contrib-python in c:\\users\\hp\\appdata\\roaming\\python\\python37\\site-packages (4.7.0.68)\n",
      "Requirement already satisfied: numpy>=1.17.0 in c:\\users\\hp\\anaconda3\\envs\\machinevision\\lib\\site-packages (from opencv-contrib-python) (1.21.5)\n"
     ]
    }
   ],
   "source": [
    "!pip3 install opencv-contrib-python --user"
   ]
  }
 ],
 "metadata": {
  "kernelspec": {
   "display_name": "Python 3 (ipykernel)",
   "language": "python",
   "name": "python3"
  },
  "language_info": {
   "codemirror_mode": {
    "name": "ipython",
    "version": 3
   },
   "file_extension": ".py",
   "mimetype": "text/x-python",
   "name": "python",
   "nbconvert_exporter": "python",
   "pygments_lexer": "ipython3",
   "version": "3.7.13"
  }
 },
 "nbformat": 4,
 "nbformat_minor": 5
}
